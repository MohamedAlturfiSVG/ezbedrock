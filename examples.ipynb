{
 "cells": [
  {
   "metadata": {},
   "cell_type": "markdown",
   "source": [
    "# Amazon Bedrock API Wrapper Examples\n",
    "\n",
    "This notebook demonstrates how to use the ezbedrock library to interact with Amazon Bedrock models."
   ],
   "id": "a97ca66e4896c4c"
  },
  {
   "metadata": {},
   "cell_type": "markdown",
   "source": [
    "## Setup\n",
    "\n",
    "First, we import the necessary libraries and create a client with default parameters.\n",
    "More information on Converse Parameters you can use: https://docs.aws.amazon.com/bedrock/latest/APIReference/API_runtime_Converse.html"
   ],
   "id": "eb135c80c8500525"
  },
  {
   "cell_type": "code",
   "id": "initial_id",
   "metadata": {
    "collapsed": true,
    "ExecuteTime": {
     "end_time": "2025-04-17T18:20:59.103045Z",
     "start_time": "2025-04-17T18:20:58.578033Z"
    }
   },
   "source": [
    "from pydantic import BaseModel\n",
    "from ezbedrock import BedrockClientWrapper\n",
    "\n",
    "# Create a client with default parameters\n",
    "bedrock = BedrockClientWrapper(\n",
    "    model_id=\"anthropic.claude-v2\",\n",
    "    max_tokens=1000,  # Limits response length; set it high to avoid truncation issues\n",
    "    temperature=0.7,  # Controls randomness (higher = more creative)\n",
    "    top_p=0.95,  # Controls diversity of word choices\n",
    ")"
   ],
   "outputs": [],
   "execution_count": 1
  },
  {
   "metadata": {},
   "cell_type": "markdown",
   "source": [
    "## Basic Text Example\n",
    "\n",
    "The simplest way to get a text response from a model."
   ],
   "id": "f43a728bc772c7db"
  },
  {
   "metadata": {
    "ExecuteTime": {
     "end_time": "2025-04-17T18:22:02.705835Z",
     "start_time": "2025-04-17T18:22:01.143030Z"
    }
   },
   "cell_type": "code",
   "source": [
    "# Example of a basic text response from a model\n",
    "print(\"Basic text example:\")\n",
    "response = bedrock.invoke_model(\"Tell me a joke\")\n",
    "print(response)"
   ],
   "id": "fa5b43a12ab73d85",
   "outputs": [
    {
     "name": "stdout",
     "output_type": "stream",
     "text": [
      "Basic text example:\n",
      "Here's a silly joke: \n",
      "\n",
      "What do you call a dog magician? A labracadabrador!\n"
     ]
    }
   ],
   "execution_count": 2
  },
  {
   "metadata": {},
   "cell_type": "markdown",
   "source": [
    "## Example with Common Parameters\n",
    "\n",
    "You can customize the model's behavior for each request using parameters like temperature."
   ],
   "id": "1f57d1448e3d9d21"
  },
  {
   "metadata": {
    "ExecuteTime": {
     "end_time": "2025-04-17T18:22:15.129060Z",
     "start_time": "2025-04-17T18:22:05.609399Z"
    }
   },
   "cell_type": "code",
   "source": [
    "# Example showing how to use common kwargs with invoke_model\n",
    "print(\"Example with common kwargs:\")\n",
    "response = bedrock.invoke_model(\n",
    "    prompt=\"Write a concise paragraph about artificial intelligence\",\n",
    "    system_prompt=\"You are an expert in artificial intelligence.\",  # Optional system instruction\n",
    "    temperature=0.2,  # Override just temperature for this less creative task\n",
    ")\n",
    "print(response)"
   ],
   "id": "17944ad959398a07",
   "outputs": [
    {
     "name": "stdout",
     "output_type": "stream",
     "text": [
      "Example with common kwargs:\n",
      "Here is a concise paragraph about artificial intelligence:\n",
      "\n",
      "Artificial intelligence (AI) refers to computer systems that can perform tasks that typically require human intelligence, such as visual perception, speech recognition, decision-making, and language translation. AI systems are powered by algorithms that learn from data and experience. Key focus areas in AI include machine learning, which allows systems to improve their performance by analyzing data; computer vision, which enables computers to interpret and understand visual inputs like images and videos; natural language processing, which focuses on enabling computers to communicate with people using everyday language; and robotics, where AI is applied to perform mechanical tasks with human-like dexterity. Though still an emerging field, AI has many practical applications and the potential to transform industries like healthcare, transportation, finance, and more. Ongoing research aims to make AI systems more capable and trustworthy.\n"
     ]
    }
   ],
   "execution_count": 3
  },
  {
   "metadata": {},
   "cell_type": "markdown",
   "source": [
    "## Structured Response with Pydantic\n",
    "\n",
    "For more complex applications, you can enforce response structure using Pydantic models."
   ],
   "id": "e605ad81f0220c4b"
  },
  {
   "metadata": {
    "ExecuteTime": {
     "end_time": "2025-04-17T18:22:22.794798Z",
     "start_time": "2025-04-17T18:22:20.701598Z"
    }
   },
   "cell_type": "code",
   "source": [
    "# Example showing Structured response with Pydantic\n",
    "# Define a Pydantic model for structured responses\n",
    "class JokeResponse(BaseModel):\n",
    "    setup: str\n",
    "    punchline: str\n",
    "    category: str\n",
    "\n",
    "print(\"Structured response with Pydantic:\")\n",
    "response = bedrock.invoke_model(\"Tell me a programming joke\", response_model=JokeResponse)\n",
    "print(response.model_dump_json(indent=2))"
   ],
   "id": "e0f46d2026697c11",
   "outputs": [
    {
     "name": "stdout",
     "output_type": "stream",
     "text": [
      "Structured response with Pydantic:\n",
      "{\n",
      "  \"setup\": \"Why do Java developers wear glasses?\",\n",
      "  \"punchline\": \"Because they can't C#.\",\n",
      "  \"category\": \"programming\"\n",
      "}\n"
     ]
    }
   ],
   "execution_count": 4
  },
  {
   "metadata": {},
   "cell_type": "markdown",
   "source": [
    "## Generic JSON Response\n",
    "\n",
    "When you need structured data but don't want to define a schema."
   ],
   "id": "441f793b34877404"
  },
  {
   "metadata": {
    "ExecuteTime": {
     "end_time": "2025-04-17T18:22:29.564455Z",
     "start_time": "2025-04-17T18:22:25.537252Z"
    }
   },
   "cell_type": "code",
   "source": [
    "# Example showing a Generic JSON response\n",
    "print(\"Generic JSON response:\")\n",
    "response = bedrock.invoke_model(\"List three programming languages with their key features\", structured_output=True)\n",
    "print(response)"
   ],
   "id": "51e2bd64871033c7",
   "outputs": [
    {
     "name": "stdout",
     "output_type": "stream",
     "text": [
      "Generic JSON response:\n",
      "{'languages': [{'name': 'Python', 'features': ['Interpreted', 'Object-oriented', 'High-level', 'Dynamic typing', 'Extensive libraries']}, {'name': 'Java', 'features': ['Object-oriented', 'Statically typed', 'Portable', 'Robust', 'Secure']}, {'name': 'JavaScript', 'features': ['Interpreted', 'Object-oriented', 'Dynamic typing', 'First-class functions', 'Prototype-based']}]}\n"
     ]
    }
   ],
   "execution_count": 5
  },
  {
   "metadata": {},
   "cell_type": "markdown",
   "source": [
    "## Conversation with History\n",
    "\n",
    "Create persistent conversations where the model remembers previous exchanges."
   ],
   "id": "7a8f36ac7e186d55"
  },
  {
   "metadata": {
    "ExecuteTime": {
     "end_time": "2025-04-17T18:22:52.652825Z",
     "start_time": "2025-04-17T18:22:32.681765Z"
    }
   },
   "cell_type": "code",
   "source": [
    "# Example showing a basic conversation\n",
    "print(\"Conversation with history example:\")\n",
    "# Create a conversation\n",
    "conversation = bedrock.create_conversation(system_prompt=\"You are a helpful assistant.\")\n",
    "\n",
    "# First message\n",
    "response1 = conversation.send(\n",
    "    \"What are the 3 most popular programming languauges?\", temperature=0.5\n",
    ")\n",
    "print(\"Response 1:\")\n",
    "print(response1)\n",
    "\n",
    "response2 = conversation.send(\"Why is the first one so popular?\")\n",
    "print(\"Response 2:\")\n",
    "print(response2)"
   ],
   "id": "adbd99a350b378fc",
   "outputs": [
    {
     "name": "stdout",
     "output_type": "stream",
     "text": [
      "Conversation with history example:\n",
      "Response 1:\n",
      "Here are 3 of the most popular programming languages:\n",
      "\n",
      "1. Python - Python is a high-level, general-purpose programming language that emphasizes code readability. It is very popular for web development, data analysis, artificial intelligence, and scientific computing. Python has a large and active community.\n",
      "\n",
      "2. JavaScript - JavaScript is a scripting language used to create interactive effects within web browsers. It is an essential technology for front-end web development and is supported by all major browsers. JavaScript is also used in game development, mobile apps, server-side applications with Node.js, etc. \n",
      "\n",
      "3. Java - Java is a popular general-purpose programming language and development platform. It is fast, reliable, and secure. Java is commonly used for developing desktop applications, web applications, mobile apps, and enterprise software. Java runs on billions of devices worldwide. Its large community makes Java libraries and frameworks readily available.\n",
      "Response 2:\n",
      "Python is one of the most popular programming languages today for several reasons:\n",
      "\n",
      "- Easy to learn - Python has simple, clean syntax that is easy to read and write. This makes Python very approachable for beginners. Python also abstracts away a lot of lower-level details that can trip up new programmers in other languages.\n",
      "\n",
      "- General purpose - Python can be used for a wide range of applications like web development, data science, AI, automation, etc. This versatility makes it a useful language for many different domains.\n",
      "\n",
      "- Vast libraries and frameworks - Python has a huge collection of external libraries and frameworks for tasks like web development (Django, Flask), data analysis (Pandas, NumPy), machine learning (Scikit-Learn, TensorFlow) and more. This allows programmers to make use of proven code for many tasks.\n",
      "\n",
      "- Productivity - Python programs typically use less lines of code than equivalent programs in languages like Java or C++. This improves programmer productivity. Python also has great built-in features like list comprehensions that help write concise code.\n",
      "\n",
      "- Interpreted language - Python is an interpreted language so it does not need to be compiled. This allows for very fast development cycles.\n",
      "\n",
      "- Community - Python has a large, supportive and active community of expert programmers which makes learning Python easier through the availability of tutorials, documentation and support forums. Most Python libraries are also open source and maintained by the community.\n",
      "\n",
      "In summary, Python's simplicity, versatility, extensive libraries and helpful community make it an accessible yet powerful programming language for a wide range of applications. This combination makes Python one of the most popular languages among new and experienced programmers alike.\n"
     ]
    }
   ],
   "execution_count": 6
  },
  {
   "metadata": {},
   "cell_type": "markdown",
   "source": [
    "## Advanced: Context Management\n",
    "\n",
    "This demonstrates how the Conversation class uses a super simple technique of managing large conversation histories to:\n",
    "1. Stay within token limits\n",
    "2. Preserve context through summarization - Summaraizes the conversation when it gets over 4 messages long\n",
    "3. Balance between complete history and recent exchanges"
   ],
   "id": "6b4fa791ea956d2f"
  },
  {
   "metadata": {
    "ExecuteTime": {
     "end_time": "2025-04-17T18:30:38.015150Z",
     "start_time": "2025-04-17T18:28:48.526656Z"
    }
   },
   "cell_type": "code",
   "source": [
    "# Demonstrates how the conversation manages context when history gets large\n",
    "print(\"Demonstrating context management:\")\n",
    "\n",
    "# Add multiple exchanges to demonstrate context management\n",
    "for i in range(5):\n",
    "    question = f\"Question {i+1}: Tell me about another programming language\"\n",
    "    print(f\"\\nSending: {question}\")\n",
    "    response = conversation.send(question)\n",
    "    print(f\"Response summary: {response[:100]}...\")\n",
    "\n",
    "print(\"\\nFinal history length:\", len(conversation.history))\n",
    "print(\"Full history length:\", len(conversation.full_history))"
   ],
   "id": "21d7b387fab39156",
   "outputs": [
   ],
   "execution_count": 9
  }
 ],
 "metadata": {
  "kernelspec": {
   "display_name": "Python 3",
   "language": "python",
   "name": "python3"
  },
  "language_info": {
   "codemirror_mode": {
    "name": "ipython",
    "version": 2
   },
   "file_extension": ".py",
   "mimetype": "text/x-python",
   "name": "python",
   "nbconvert_exporter": "python",
   "pygments_lexer": "ipython2",
   "version": "2.7.6"
  }
 },
 "nbformat": 4,
 "nbformat_minor": 5
}
