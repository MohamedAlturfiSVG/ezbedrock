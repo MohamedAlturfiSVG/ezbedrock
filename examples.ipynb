{
 "cells": [
  {
   "metadata": {},
   "cell_type": "markdown",
   "source": [
    "# Amazon Bedrock API Wrapper Examples\n",
    "\n",
    "This notebook demonstrates how to use the ezbedrock library to interact with Amazon Bedrock models."
   ],
   "id": "a97ca66e4896c4c"
  },
  {
   "metadata": {},
   "cell_type": "markdown",
   "source": [
    "## Setup\n",
    "\n",
    "First, we import the necessary libraries and create a client with default parameters.\n",
    "More information on Converse Parameters you can use: https://docs.aws.amazon.com/bedrock/latest/APIReference/API_runtime_Converse.html"
   ],
   "id": "eb135c80c8500525"
  },
  {
   "cell_type": "code",
   "id": "initial_id",
   "metadata": {
    "collapsed": true,
    "ExecuteTime": {
     "end_time": "2025-04-17T18:20:59.103045Z",
     "start_time": "2025-04-17T18:20:58.578033Z"
    }
   },
   "source": [
    "from pydantic import BaseModel\n",
    "from ezbedrock import BedrockClientWrapper\n",
    "\n",
    "# Create a client with default parameters\n",
    "bedrock = BedrockClientWrapper(\n",
    "    model_id=\"anthropic.claude-v2\",\n",
    "    max_tokens=1000,  # Limits response length; set it high to avoid truncation issues\n",
    "    temperature=0.7,  # Controls randomness (higher = more creative)\n",
    "    top_p=0.95,  # Controls diversity of word choices\n",
    ")"
   ],
   "outputs": [],
   "execution_count": 1
  },
  {
   "metadata": {},
   "cell_type": "markdown",
   "source": [
    "## Basic Text Example\n",
    "\n",
    "The simplest way to get a text response from a model."
   ],
   "id": "f43a728bc772c7db"
  },
  {
   "metadata": {
    "ExecuteTime": {
     "end_time": "2025-04-17T18:22:02.705835Z",
     "start_time": "2025-04-17T18:22:01.143030Z"
    }
   },
   "cell_type": "code",
   "source": [
    "# Example of a basic text response from a model\n",
    "print(\"Basic text example:\")\n",
    "response = bedrock.invoke_model(\"Tell me a joke\")\n",
    "print(response)"
   ],
   "id": "fa5b43a12ab73d85",
   "outputs": [
    {
     "name": "stdout",
     "output_type": "stream",
     "text": [
      "Basic text example:\n",
      "Here's a silly joke: \n",
      "\n",
      "What do you call a dog magician? A labracadabrador!\n"
     ]
    }
   ],
   "execution_count": 2
  },
  {
   "metadata": {},
   "cell_type": "markdown",
   "source": [
    "## Example with Common Parameters\n",
    "\n",
    "You can customize the model's behavior for each request using parameters like temperature."
   ],
   "id": "1f57d1448e3d9d21"
  },
  {
   "metadata": {
    "ExecuteTime": {
     "end_time": "2025-04-17T18:22:15.129060Z",
     "start_time": "2025-04-17T18:22:05.609399Z"
    }
   },
   "cell_type": "code",
   "source": [
    "# Example showing how to use common kwargs with invoke_model\n",
    "print(\"Example with common kwargs:\")\n",
    "response = bedrock.invoke_model(\n",
    "    prompt=\"Write a concise paragraph about artificial intelligence\",\n",
    "    system_prompt=\"You are an expert in artificial intelligence.\",  # Optional system instruction\n",
    "    temperature=0.2,  # Override just temperature for this less creative task\n",
    ")\n",
    "print(response)"
   ],
   "id": "17944ad959398a07",
   "outputs": [
    {
     "name": "stdout",
     "output_type": "stream",
     "text": [
      "Example with common kwargs:\n",
      "Here is a concise paragraph about artificial intelligence:\n",
      "\n",
      "Artificial intelligence (AI) refers to computer systems that can perform tasks that typically require human intelligence, such as visual perception, speech recognition, decision-making, and language translation. AI systems are powered by algorithms that learn from data and experience. Key focus areas in AI include machine learning, which allows systems to improve their performance by analyzing data; computer vision, which enables computers to interpret and understand visual inputs like images and videos; natural language processing, which focuses on enabling computers to communicate with people using everyday language; and robotics, where AI is applied to perform mechanical tasks with human-like dexterity. Though still an emerging field, AI has many practical applications and the potential to transform industries like healthcare, transportation, finance, and more. Ongoing research aims to make AI systems more capable and trustworthy.\n"
     ]
    }
   ],
   "execution_count": 3
  },
  {
   "metadata": {},
   "cell_type": "markdown",
   "source": [
    "## Structured Response with Pydantic\n",
    "\n",
    "For more complex applications, you can enforce response structure using Pydantic models."
   ],
   "id": "e605ad81f0220c4b"
  },
  {
   "metadata": {
    "ExecuteTime": {
     "end_time": "2025-04-17T18:22:22.794798Z",
     "start_time": "2025-04-17T18:22:20.701598Z"
    }
   },
   "cell_type": "code",
   "source": [
    "# Example showing Structured response with Pydantic\n",
    "# Define a Pydantic model for structured responses\n",
    "class JokeResponse(BaseModel):\n",
    "    setup: str\n",
    "    punchline: str\n",
    "    category: str\n",
    "\n",
    "print(\"Structured response with Pydantic:\")\n",
    "response = bedrock.invoke_model(\"Tell me a programming joke\", response_model=JokeResponse)\n",
    "print(response.model_dump_json(indent=2))"
   ],
   "id": "e0f46d2026697c11",
   "outputs": [
    {
     "name": "stdout",
     "output_type": "stream",
     "text": [
      "Structured response with Pydantic:\n",
      "{\n",
      "  \"setup\": \"Why do Java developers wear glasses?\",\n",
      "  \"punchline\": \"Because they can't C#.\",\n",
      "  \"category\": \"programming\"\n",
      "}\n"
     ]
    }
   ],
   "execution_count": 4
  },
  {
   "metadata": {},
   "cell_type": "markdown",
   "source": [
    "## Generic JSON Response\n",
    "\n",
    "When you need structured data but don't want to define a schema."
   ],
   "id": "441f793b34877404"
  },
  {
   "metadata": {
    "ExecuteTime": {
     "end_time": "2025-04-17T18:22:29.564455Z",
     "start_time": "2025-04-17T18:22:25.537252Z"
    }
   },
   "cell_type": "code",
   "source": [
    "# Example showing a Generic JSON response\n",
    "print(\"Generic JSON response:\")\n",
    "response = bedrock.invoke_model(\"List three programming languages with their key features\", structured_output=True)\n",
    "print(response)"
   ],
   "id": "51e2bd64871033c7",
   "outputs": [
    {
     "name": "stdout",
     "output_type": "stream",
     "text": [
      "Generic JSON response:\n",
      "{'languages': [{'name': 'Python', 'features': ['Interpreted', 'Object-oriented', 'High-level', 'Dynamic typing', 'Extensive libraries']}, {'name': 'Java', 'features': ['Object-oriented', 'Statically typed', 'Portable', 'Robust', 'Secure']}, {'name': 'JavaScript', 'features': ['Interpreted', 'Object-oriented', 'Dynamic typing', 'First-class functions', 'Prototype-based']}]}\n"
     ]
    }
   ],
   "execution_count": 5
  },
  {
   "metadata": {},
   "cell_type": "markdown",
   "source": [
    "## Conversation with History\n",
    "\n",
    "Create persistent conversations where the model remembers previous exchanges."
   ],
   "id": "7a8f36ac7e186d55"
  },
  {
   "metadata": {
    "ExecuteTime": {
     "end_time": "2025-04-17T18:22:52.652825Z",
     "start_time": "2025-04-17T18:22:32.681765Z"
    }
   },
   "cell_type": "code",
   "source": [
    "# Example showing a basic conversation\n",
    "print(\"Conversation with history example:\")\n",
    "# Create a conversation\n",
    "conversation = bedrock.create_conversation(system_prompt=\"You are a helpful assistant.\")\n",
    "\n",
    "# First message\n",
    "response1 = conversation.send(\n",
    "    \"What are the 3 most popular programming languauges?\", temperature=0.5\n",
    ")\n",
    "print(\"Response 1:\")\n",
    "print(response1)\n",
    "\n",
    "response2 = conversation.send(\"Why is the first one so popular?\")\n",
    "print(\"Response 2:\")\n",
    "print(response2)"
   ],
   "id": "adbd99a350b378fc",
   "outputs": [
    {
     "name": "stdout",
     "output_type": "stream",
     "text": [
      "Conversation with history example:\n",
      "Response 1:\n",
      "Here are 3 of the most popular programming languages:\n",
      "\n",
      "1. Python - Python is a high-level, general-purpose programming language that emphasizes code readability. It is very popular for web development, data analysis, artificial intelligence, and scientific computing. Python has a large and active community.\n",
      "\n",
      "2. JavaScript - JavaScript is a scripting language used to create interactive effects within web browsers. It is an essential technology for front-end web development and is supported by all major browsers. JavaScript is also used in game development, mobile apps, server-side applications with Node.js, etc. \n",
      "\n",
      "3. Java - Java is a popular general-purpose programming language and development platform. It is fast, reliable, and secure. Java is commonly used for developing desktop applications, web applications, mobile apps, and enterprise software. Java runs on billions of devices worldwide. Its large community makes Java libraries and frameworks readily available.\n",
      "Response 2:\n",
      "Python is one of the most popular programming languages today for several reasons:\n",
      "\n",
      "- Easy to learn - Python has simple, clean syntax that is easy to read and write. This makes Python very approachable for beginners. Python also abstracts away a lot of lower-level details that can trip up new programmers in other languages.\n",
      "\n",
      "- General purpose - Python can be used for a wide range of applications like web development, data science, AI, automation, etc. This versatility makes it a useful language for many different domains.\n",
      "\n",
      "- Vast libraries and frameworks - Python has a huge collection of external libraries and frameworks for tasks like web development (Django, Flask), data analysis (Pandas, NumPy), machine learning (Scikit-Learn, TensorFlow) and more. This allows programmers to make use of proven code for many tasks.\n",
      "\n",
      "- Productivity - Python programs typically use less lines of code than equivalent programs in languages like Java or C++. This improves programmer productivity. Python also has great built-in features like list comprehensions that help write concise code.\n",
      "\n",
      "- Interpreted language - Python is an interpreted language so it does not need to be compiled. This allows for very fast development cycles.\n",
      "\n",
      "- Community - Python has a large, supportive and active community of expert programmers which makes learning Python easier through the availability of tutorials, documentation and support forums. Most Python libraries are also open source and maintained by the community.\n",
      "\n",
      "In summary, Python's simplicity, versatility, extensive libraries and helpful community make it an accessible yet powerful programming language for a wide range of applications. This combination makes Python one of the most popular languages among new and experienced programmers alike.\n"
     ]
    }
   ],
   "execution_count": 6
  },
  {
   "metadata": {},
   "cell_type": "markdown",
   "source": [
    "## Advanced: Context Management\n",
    "\n",
    "This demonstrates how the Conversation class uses a super simple technique of managing large conversation histories to:\n",
    "1. Stay within token limits\n",
    "2. Preserve context through summarization - Summaraizes the conversation when it gets over 4 messages long\n",
    "3. Balance between complete history and recent exchanges"
   ],
   "id": "6b4fa791ea956d2f"
  },
  {
   "metadata": {
    "ExecuteTime": {
     "end_time": "2025-04-17T18:30:38.015150Z",
     "start_time": "2025-04-17T18:28:48.526656Z"
    }
   },
   "cell_type": "code",
   "source": [
    "# Demonstrates how the conversation manages context when history gets large\n",
    "print(\"Demonstrating context management:\")\n",
    "\n",
    "# Add multiple exchanges to demonstrate context management\n",
    "for i in range(5):\n",
    "    question = f\"Question {i+1}: Tell me about another programming language\"\n",
    "    print(f\"\\nSending: {question}\")\n",
    "    response = conversation.send(question)\n",
    "    print(f\"Response summary: {response[:100]}...\")\n",
    "\n",
    "print(\"\\nFinal history length:\", len(conversation.history))\n",
    "print(\"Full history length:\", len(conversation.full_history))"
   ],
   "id": "21d7b387fab39156",
   "outputs": [
    {
     "name": "stdout",
     "output_type": "stream",
     "text": [
      "Demonstrating context management:\n",
      "\n",
      "Sending: Question 1: Tell me about another programming language\n",
      "Response summary: Here is an overview of another popular programming language:\n",
      "\n",
      "TypeScript\n",
      "\n",
      "- TypeScript is an open-so...\n",
      "\n",
      "Sending: Question 2: Tell me about another programming language\n",
      "Response summary: Here is an overview of another important programming language:\n",
      "\n",
      "Rust\n",
      "\n",
      "- Rust is an open-source, mult...\n",
      "\n",
      "Sending: Question 3: Tell me about another programming language\n",
      "Response summary: Here is an overview of another important programming language:\n",
      "\n",
      "Scala\n",
      "\n",
      "- Scala is a general-purpose,...\n",
      "\n",
      "Sending: Question 4: Tell me about another programming language\n",
      "Response summary: Here is an overview of another important programming language:\n",
      "\n",
      "Julia\n",
      "\n",
      "- Julia is a high-performance...\n",
      "\n",
      "Sending: Question 5: Tell me about another programming language\n",
      "Response summary: Here is an overview of another important programming language:\n",
      "\n",
      "Haskell \n",
      "\n",
      "- Haskell is a general-pur...\n",
      "\n",
      "Final history length: 34\n",
      "Full history length: 34\n",
      "[{'role': 'user', 'content': 'What are the 3 most popular programming languauges?'}, {'role': 'assistant', 'content': 'Here are 3 of the most popular programming languages:\\n\\n1. Python - Python is a high-level, general-purpose programming language that emphasizes code readability. It is very popular for web development, data analysis, artificial intelligence, and scientific computing. Python has a large and active community.\\n\\n2. JavaScript - JavaScript is a scripting language used to create interactive effects within web browsers. It is an essential technology for front-end web development and is supported by all major browsers. JavaScript is also used in game development, mobile apps, server-side applications with Node.js, etc. \\n\\n3. Java - Java is a popular general-purpose programming language and development platform. It is fast, reliable, and secure. Java is commonly used for developing desktop applications, web applications, mobile apps, and enterprise software. Java runs on billions of devices worldwide. Its large community makes Java libraries and frameworks readily available.'}, {'role': 'user', 'content': 'Why is the first one so popular?'}, {'role': 'assistant', 'content': \"Python is one of the most popular programming languages today for several reasons:\\n\\n- Easy to learn - Python has simple, clean syntax that is easy to read and write. This makes Python very approachable for beginners. Python also abstracts away a lot of lower-level details that can trip up new programmers in other languages.\\n\\n- General purpose - Python can be used for a wide range of applications like web development, data science, AI, automation, etc. This versatility makes it a useful language for many different domains.\\n\\n- Vast libraries and frameworks - Python has a huge collection of external libraries and frameworks for tasks like web development (Django, Flask), data analysis (Pandas, NumPy), machine learning (Scikit-Learn, TensorFlow) and more. This allows programmers to make use of proven code for many tasks.\\n\\n- Productivity - Python programs typically use less lines of code than equivalent programs in languages like Java or C++. This improves programmer productivity. Python also has great built-in features like list comprehensions that help write concise code.\\n\\n- Interpreted language - Python is an interpreted language so it does not need to be compiled. This allows for very fast development cycles.\\n\\n- Community - Python has a large, supportive and active community of expert programmers which makes learning Python easier through the availability of tutorials, documentation and support forums. Most Python libraries are also open source and maintained by the community.\\n\\nIn summary, Python's simplicity, versatility, extensive libraries and helpful community make it an accessible yet powerful programming language for a wide range of applications. This combination makes Python one of the most popular languages among new and experienced programmers alike.\"}, {'role': 'user', 'content': 'Question 1: Tell me about another programming language'}, {'role': 'assistant', 'content': \"Here's an overview of another popular programming language:\\n\\nC++\\n\\n- C++ is a general-purpose programming language that was developed as an extension to C. It was originally designed by Bjarne Stroustrup starting in 1979 at Bell Labs.\\n\\n- C++ is considered an intermediate-level language, as it has both high-level and low-level language features. This allows programmers to use it for both system/kernel development and application development.\\n\\n- C++ supports object-oriented, generic, and procedural programming styles. Features include classes, inheritance, templates, exception handling, namespaces, operator overloading, and more.\\n\\n- C++ provides great performance compared to interpreted languages like Python. It is a compiled language that is converted directly into native machine code that a computer can execute.\\n\\n- C++ is widely used for developing operating systems, browsers, games engines, desktop applications, drivers, embedded firmware, and many other types of software where performance is critical.\\n\\n- C++ has influenced many other popular languages including C#, Java, JavaScript, PHP, and Python. Concepts like classes and exceptions originated in C++.\\n\\n- C++ has a steep learning curve compared to newer languages, as programmers have to manage memory manually and understand low-level details. But it is also an extremely powerful and flexible language in the hands of experienced developers.\\n\\nIn summary, C++ is a fast, general-purpose language with a wide range of uses, especially for performance-critical applications. But it requires strong programming skills and knowledge to use effectively.\"}, {'role': 'user', 'content': 'Question 2: Tell me about another programming language'}, {'role': 'assistant', 'content': 'Here is an overview of another popular programming language:\\n\\nJavaScript\\n\\n- JavaScript is a lightweight, interpreted programming language, best known as the scripting language for Web pages. \\n\\n- It was created by Brendan Eich at Netscape in 1995. The intent was to make web pages more dynamic and interactive.\\n\\n- JavaScript code can be inserted into HTML pages and interact with the Document Object Model (DOM) of the page. This allows for things like dynamically generated content, validating forms, creating animations, and more.\\n\\n- JavaScript gained widespread adoption quickly and is now supported by all major web browsers without plugins. It has gone beyond basic scripting and is now used for full-fledged applications, game development, machine learning, etc.\\n\\n- JavaScript is a multi-paradigm language, supporting object-oriented, imperative, and functional programming styles. It has a syntax similar to Java and C++ but provides greater flexibility.\\n\\n- Key features include prototype-based inheritance, first-class functions, closures, dynamic typing, and asynchronous event-driven capability. \\n\\n- The development of Node.js allowed JavaScript code to be run on servers. This opened up a whole new area of back-end development in JavaScript.\\n\\n- Frameworks like React, Angular, and Vue have made complex JavaScript front-end development easier. JavaScript remains essential for creating interactive web content.\\n\\nIn summary, JavaScript is the ubiquitous scripting language of the web and beyond, powering the dynamic behavior of websites and applications. It has grown immensely in scope and capability over the years.'}, {'role': 'user', 'content': 'Question 3: Tell me about another programming language'}, {'role': 'assistant', 'content': 'Here is an overview of another widely used programming language:\\n\\nC# (pronounced C-sharp)\\n\\n- C# is an object-oriented, general-purpose programming language developed by Microsoft. It was designed by Anders Hejlsberg and his team within Microsoft in the late 1990s.\\n\\n- The syntax of C# is very similar to Java, but it has features from other languages like C++ and Delphi. Microsoft designed C# as a component-oriented development language for their .NET Framework.\\n\\n- C# code is compiled into an intermediate language (IL) code. At runtime, the IL code is converted to machine code by a .NET Framework just-in-time (JIT) compiler. This allows C# to combine compile-time type safety with runtime flexibility.\\n\\n- C# supports structural, generic, and functional programming features. It provides garbage collection, type safety, exception handling, and other modern language capabilities.\\n\\n- Since the release of .NET Core, C# can be used on multiple platforms including Windows, Linux, and macOS. It can be used to build everything from mobile apps to cloud services. \\n\\n- C# is widely used for client-server web applications using ASP.NET Framework, desktop applications using Windows Forms or WPF, mobile apps using Xamarin, and game development using Unity.\\n\\n- C# has a large and active development community and is used by many large organizations. Strong tooling support is available in the form of Visual Studio IDE.\\n\\nIn summary, C# is a versatile, modern, general-purpose language built by Microsoft to leverage their .NET platform. It combines simplicity with power making it a popular choice for many types of development.'}, {'role': 'user', 'content': 'Question 4: Tell me about another programming language'}, {'role': 'assistant', 'content': 'Here is an overview of another important programming language:\\n\\nSQL (Structured Query Language)\\n\\n- SQL is a domain-specific programming language designed for managing data held in relational databases. \\n\\n- It was originally developed at IBM in the early 1970s and is now an international standard maintained by ISO and ANSI.\\n\\n- SQL lets you interact with database systems in a structured and intuitive way without knowing the internal implementation details.\\n\\n- SQL statements are used to perform tasks such as querying data from tables, inserting, updating or deleting records, creating and modifying database objects, and controlling access permissions.\\n\\n- Key features include the ability to join data from multiple tables, aggregate functions, subqueries and complex conditional logic. This provides powerful data analysis capabilities.\\n\\n- SQL is declarative rather than procedural. You specify the pattern of the results required but not how to achieve it. The database system determines the most efficient way to execute SQL statements.\\n\\n- SQL injects into host languages like PHP, Java, C# allowing you to access databases from within these languages. Most major databases like Oracle, MySQL, and SQL Server support SQL.\\n\\n- SQL is widely used by database administrators, developers, data analysts, data scientists, and others who work with data. Good SQL skills are highly valued in the job market.\\n\\n- Variants of SQL add proprietary extensions for specific databases but the ANSI standard SQL provides cross-compatibility across databases.\\n\\nIn summary, SQL is the ubiquitous language for database management and analysis used by nearly every industry and programming language. It is easy to learn but offers immense power and flexibility.'}, {'role': 'user', 'content': 'Question 5: Tell me about another programming language'}, {'role': 'assistant', 'content': 'Here is an overview of another important programming language in the data science domain: \\n\\nR\\n\\n- R is an open source programming language specialized for statistical computing, data analysis and visualization.\\n\\n- It was created in the 1990s by Ross Ihaka and Robert Gentleman at the University of Auckland in New Zealand.\\n\\n- R provides a wide range of statistical and graphical techniques including linear and nonlinear modeling, time series analysis, classification, clustering and more.\\n\\n- It has powerful data structures like vectors, arrays, data frames and lists for managing all types of data.\\n\\n- R has thousands of libraries and extensions that allow diverse tasks like web scraping, natural language processing, machine learning etc.\\n\\n- The R language syntax is similar to S/S Plus programming languages. It supports procedural, object oriented and functional programming paradigms.\\n\\n- R has an excellent graphics engine for creating plots, charts and custom visualizations. Plots can be embedded into R markdown documents.\\n\\n- RStudio is a popular integrated development environment for working with R. It provides many features out of the box for debugging, workspace management, plotting and report authoring.\\n\\n- R is highly extensible through packages and has an active global community of contributors. R is widely used in academia, government and industry for statistical analysis and visualization.\\n\\nIn summary, R is the leading open source language and environment for statistical computing and graphics, with a huge ecosystem of packages and libraries. It is popular among data scientists and analysts.'}, {'role': 'user', 'content': 'Question 1: Tell me about another programming language'}, {'role': 'assistant', 'content': 'Here is an overview of another popular programming language:\\n\\nRuby\\n\\n- Ruby is an open-source, dynamic and interpreted programming language, created in the mid-1990s by Yukihiro \"Matz\" Matsumoto.\\n\\n- It has a focus on simplicity and productivity with an elegant syntax that is easy to read and write. \\n\\n- Ruby follows the principle of POLA (Principle of Least Astonishment) meaning it tries to behave in ways that are least surprising to experienced programmers.\\n\\n- It supports multiple programming paradigms including functional, object-oriented, imperative and reflective. Ruby does not require defining data types for variables.\\n\\n- Ruby on Rails is a popular web application development framework built in Ruby. It follows the MVC (Model View Controller) architecture and provides default structures for databases, web pages, and HTML/CSS.\\n\\n- Some key features of Ruby include dynamic typing, automatic memory management, iterators and closures, exception handling and mixins for inheritance.\\n\\n- Ruby has an interactive shell (IRB) which allows experimenting with code snippets in a REPL (Read-Eval-Print-Loop) environment.\\n\\n- Ruby is used for building a variety of applications including web backends, scripts, data analysis, scientific computing, machine learning etc. \\n\\n- Major sites like Airbnb, Twitch, Hulu were built with Ruby on Rails. Ruby has an enthusiastic, international community.\\n\\nIn summary, Ruby is an elegant object-oriented scripting language optimized for programmer productivity and enjoyment. It powers the popular Ruby on Rails web framework.'}, {'role': 'user', 'content': 'Question 2: Tell me about another programming language'}, {'role': 'assistant', 'content': 'Here is an overview of another popular programming language:\\n\\nSwift\\n\\n- Swift is a general-purpose, multi-paradigm, compiled programming language developed by Apple for iOS, macOS, watchOS, and tvOS app development.\\n\\n- It was designed to be beginner-friendly and interactive while also being powerful and high-performance for app development. Swift was first released in 2014.\\n\\n- Swift syntax is clean and modern, borrowing elements from languages like Objective-C, Rust, Haskell, Ruby, Python, and C#. It gets rid of legacy C-style syntax like brackets and semicolons.\\n\\n- Key features include inferred types, generics, tuples, optionals, closures, extensions, protocols and functional programming capabilities. \\n\\n- Swift supports both structured (if/else, loops) and object-oriented (classes, protocols) programming styles. Memory is managed automatically using ARC (Automatic Reference Counting).\\n\\n- Swift code is compiled to optimized native machine code allowing it to run fast. Swift can be seamlessly used alongside the mature Objective-C runtime.\\n\\n- Xcode IDE provides a rich Swift development environment for iOS and macOS. Swift Package Manager and third-party tools support server-side development.\\n\\n- Swift is gaining popularity beyond Apple platforms for open source server-side apps, embedded devices, Linux, and machine learning frameworks. Major sites like WordPress and Tinder use Swift.\\n\\n- Apple continues to rapidly evolve Swift with new language features, performance improvements, and supporting libraries. Swift has vibrant developer community.\\n\\nIn summary, Swift is a safe, fast and interactive language developed by Apple to make app development easier while harnessing powerful capabilities.'}, {'role': 'user', 'content': 'Question 3: Tell me about another programming language'}, {'role': 'assistant', 'content': 'Here is an overview of another important programming language:\\n\\nGo (or Golang)\\n\\n- Go is an open source programming language developed by Google in 2007-2009. The main designers were Robert Griesemer, Rob Pike, and Ken Thompson.\\n\\n- Go is a statically-typed, compiled language with syntax loosely derived from C, but with additional features like garbage collection, structural typing, and CSP-style concurrency.\\n\\n- Key design goals were simplicity, fast compilation, and efficient execution. Go was designed for modern multi-core and networked systems programming.\\n\\n- Go provides built-in concurrency features using goroutines (lightweight threads) and channels (for communication between goroutines). This makes it easy to write concurrent code.\\n\\n- The Go standard library provides extensive support for things like input/output, networking, cryptography, text processing, containers, testing, and more.\\n\\n- Go compiles quickly to standalone native binaries with no external dependencies. This makes deployment and distribution easy.\\n\\n- Go supports procedural, object-oriented and functional programming styles. Interfaces and reflection provide polymorphic capabilities.\\n\\n- Go is used widely in web development, DevOps, distributed systems, banking, networking, and other infrastructure level software. Companies like Google, Uber, Dropbox use Go extensively.\\n\\n- Go has a thriving open source ecosystem and developer community, with thousands of libraries and frameworks available.\\n\\nIn summary, Go is an efficient, compiled language developed by Google that makes writing reliable and robust system-level software easier. It is gaining widespread adoption.'}, {'role': 'user', 'content': 'Question 4: Tell me about another programming language'}, {'role': 'assistant', 'content': 'Here is an overview of another popular programming language:\\n\\nKotlin\\n\\n- Kotlin is a cross-platform, statically typed, general-purpose programming language with type inference developed by JetBrains.\\n\\n- It was first released in 2011 and has grown in popularity as an alternative language for Android development. Google adopted Kotlin as an official Android language in 2017.\\n\\n- Kotlin can be compiled to Java bytecode and JavaScript. It is designed to interoperate fully with Java code and runtime libraries. Kotlin can use existing Java frameworks and libraries seamlessly.\\n\\n- Key features of Kotlin include first-class functions, extension functions, null safety, smart casts, type inference, immutability support and support for functional and object-oriented programming.\\n\\n- Kotlin aims to combine object-oriented and functional features in a concise, safe and tool-friendly syntax. Some syntax is inspired by Swift.\\n\\n- Kotlin supports both procedural and functional styles with lambdas, higher-order functions and lazy evaluation. Kotlin variables are immutable by default which prevents bugs.\\n\\n- Kotlin eliminates entire classes of errors such as null pointer exceptions through its null safety. This improves code reliability.\\n\\n- Kotlin gives full interoperability with Java, allowing gradual adoption in existing Java codebases. It can target the JVM, JavaScript, native binaries and LLVM.\\n\\n- Kotlin is used by companies like Google, Pinterest, Coursera, Pivotal, Corda, etc. It has strong backing from the developer community and JetBrains.\\n\\nIn summary, Kotlin is a concise, versatile and interoperable modern language that improves over Java without breaking Java compatibility. It is ideal for building Android apps.'}, {'role': 'user', 'content': 'Question 5: Tell me about another programming language'}, {'role': 'assistant', 'content': 'Here is an overview of another popular programming language:\\n\\nPHP\\n\\n- PHP (Hypertext Preprocessor) is an open-source, general-purpose, dynamically typed and interpreted scripting language.\\n\\n- It was created by Rasmus Lerdorf in 1994 originally for web development. It now powers over 75% of websites on the internet including Facebook.\\n\\n- PHP code is usually processed on the server by an interpreter which generates HTML that is sent to the client. This makes it well suited for server-side web development.\\n\\n- PHP syntax has similarities with C, Java and Perl. It supports object-oriented, procedural and functional programming styles. \\n\\n- Key features include exception handling, interfaces, closures, namespaces, traits and a large standard library for common web tasks.\\n\\n- PHP integrates easily with SQL databases like MySQL and databases through extensions. MySQL and PHP are fundamental technologies behind WordPress.\\n\\n- PHP runs on various platforms like Windows, Linux, Unix, Mac OS X, etc. It is open source and free to download from php.net. Popular frameworks for PHP include Laravel and Symfony.\\n\\n- PHP is easy for beginners to learn because of its straightforward C-like syntax. But large PHP projects require discipline to avoid \"spaghetti\" code.\\n\\n- Major sites like Facebook, Wikipedia, Tumblr use PHP serving billions of page views every day. PHP is widely used by programmers due to the low cost and flexibility it provides.\\n\\nIn summary, PHP is a mature, widely-used open source scripting language well suited for server-side web development because of its simplicity, database integration, and huge ecosystem.'}, {'role': 'user', 'content': 'Question 1: Tell me about another programming language'}, {'role': 'assistant', 'content': 'Here is an overview of another popular programming language:\\n\\nTypeScript\\n\\n- TypeScript is an open-source programming language developed by Microsoft. It is a strict syntactical superset of JavaScript and adds optional static typing.\\n\\n- TypeScript was designed by Anders Hejlsberg and first released in 2012. It can be used to develop JavaScript applications for client-side and server-side execution (using Node.js).\\n\\n- TypeScript extends JavaScript syntax for supporting features like static typing, classes, interfaces, generics and compile-time checks. Code can be compiled to plain JavaScript.\\n\\n- TypeScript adds optional type annotations like number, boolean, string arrays, etc. This enables static analysis and error checking during development, improving reliability. \\n\\n- The structural type system of TypeScript supports interfaces, enums, hybrid types and other advanced constructs. Code can be incrementally typed during migration.\\n\\n- TypeScript supports modern ECMAScript features and transpiles down to ECMAScript targets decided by the developer based on browser/runtime requirements.\\n\\n- TypeScript has grown in popularity for large-scale JavaScript development because it enables IDEs to provide intellisense, refactoring, debugging and other advanced coding features.\\n\\n- It is used by companies like Microsoft, Google, Facebook, Amazon, etc. for developing Web apps, desktop apps, games, mobile apps and embedded systems software.\\n\\nIn summary, TypeScript brings optional typing and other rich features to JavaScript to enhance code quality and developer productivity, especially for complex applications.'}, {'role': 'user', 'content': 'Question 2: Tell me about another programming language'}, {'role': 'assistant', 'content': \"Here is an overview of another important programming language:\\n\\nRust\\n\\n- Rust is an open-source, multi-paradigm, compiled programming language designed by Mozilla for performance, safety and concurrency.\\n\\n- It was created in 2006 by Graydon Hoare and later sponsored by Mozilla. Rust reached version 1.0 in 2015 after years of development.\\n\\n- Rust uses a borrow checker to validate references and prevent common pitfalls like null pointers, dangling pointers, race conditions etc. This makes it memory-safe without garbage collection.\\n\\n- It supports concurrent, functional and procedural programming along with meta-programming features like macros. Rust also supports generic programming.\\n\\n- Rust's syntax is similar to C and C++ but provides stronger type safety and other modern features. It achieves both runtime performance and compile-time safety.\\n\\n- Ownership and borrowing are important concepts in Rust. Resources have a single owner and loans of resources enforce validity through scoped lifetimes.\\n\\n- Rust is used for system-level software, network services, embedded devices, browsers, games, cryptocurrencies, bioinformatics and other performance-critical applications.\\n\\n- Popular companies using Rust include Mozilla, Microsoft, Amazon, Dropbox, Cloudflare, Discord, npm, Coinbase, etc. It has a friendly, diverse community.\\n\\n- Cargo is the official package manager for Rust libraries and applications. The Rust compiler checks and builds code for consistency and safety.\\n\\nIn summary, Rust is a modern systems programming language focused on safety, speed and concurrency designed to overcome C/C++ limitations.\"}, {'role': 'user', 'content': 'Question 3: Tell me about another programming language'}, {'role': 'assistant', 'content': 'Here is an overview of another important programming language:\\n\\nScala\\n\\n- Scala is a general-purpose, multi-paradigm programming language designed to integrate object-oriented and functional programming on the Java platform.\\n\\n- It was designed in 2001 by Martin Odersky and his group at EPFL. Scala source code compiles to Java bytecode so it can run on any Java virtual machine.\\n\\n- Scala combines a pure object-oriented approach with functional programming concepts like type inference, immutability, lazy evaluation, pattern matching, algebraic data types, etc.\\n\\n- The syntax of Scala is concise and designed to balance the readability of Java with expressiveness similar to Ruby and Python. \\n\\n- Scala provides language interoperability with Java and allows access to huge ecosystem of Java libraries. It can call Java methods and extend Java classes.\\n\\n- Key features include implicit parameters, higher-order functions, nested functions, mutable/immutable variables, concise control structures, pattern matching, type safety etc.\\n\\n- Scala is used for building web services, data science applications, distributed systems and other big data solutions. Companies like Twitter, LinkedIn, Airbnb use it.\\n\\n- Scala has a strong static type system but type annotations are generally omitted because of type inference. This provides safety with flexibility.\\n\\n- There is excellent tooling support for Scala in IDEs like IntelliJ IDEA and with build tools like SBT and Maven. Scala has an active developer community.\\n\\nIn summary, Scala elegantly fuses functional and object-oriented programming on the proven Java platform to create a powerful modern multi-paradigm language.'}, {'role': 'user', 'content': 'Question 4: Tell me about another programming language'}, {'role': 'assistant', 'content': 'Here is an overview of another important programming language:\\n\\nJulia\\n\\n- Julia is a high-performance, dynamic programming language designed for scientific computing, machine learning, data mining, large-scale linear algebra and other technical computing applications.\\n\\n- It was created by Jeff Bezanson, Stefan Karpinski, Viral B. Shah, and Alan Edelman in 2009 at MIT. Julia v1.0 was released in 2018.\\n\\n- Julia aims to provide the ease of use and productivity of Python and R along with the speed and performance of C, C++ or Java. It uses a JIT compiler.\\n\\n- Julia utilizes multiple dispatch, multithreading, distributed parallel execution, and an extensive math library to achieve high performance. It integrates well with Python and C.\\n\\n- The syntax of Julia is similar to Matlab or Python. It is dynamically typed, garbage collected and supports metaprogramming with macros and reflection.\\n\\n- Key technical features include asynchronous I/O, parallelism, distributed arrays, algebraic data types, user-defined types, multiple dispatch, broadcast and vectorization.\\n\\n- Julia provides powerful shell, debugging, package manager and other tools out of the box to improve the development experience.\\n\\n- Julia is gaining popularity in academia and research for data analysis, modeling, visualization, and high performance computing. The community is active and friendly.\\n\\n- Companies like Aviva, BBC, Capital One, NASA, Simulia use Julia. The language is well suited for big data analytics, quantitative finance, biology, economics and other numerical domains.\\n\\nIn summary, Julia delivers efficient JIT-compiled dynamic language performance for technical computing while maintaining an interactive, productive workflow.'}, {'role': 'user', 'content': 'Question 5: Tell me about another programming language'}, {'role': 'assistant', 'content': 'Here is an overview of another important programming language:\\n\\nHaskell \\n\\n- Haskell is a general-purpose, statically typed, purely functional programming language with type inference and lazy evaluation.\\n\\n- It was designed by a committee of researchers in the late 1980s to incorporate the best ideas from functional languages like ML, Miranda, Clean and others. \\n\\n- Haskell uses pure mathematical functions avoiding mutable state and side-effects. Equational reasoning can be applied as functions always return the same result for the same arguments.\\n\\n- It supports pattern matching, higher-order functions, polymorphism, type classes, monads and other advanced features with minimal syntax.\\n\\n- Laziness or non-strict evaluation is a key aspect of Haskell. Computation is deferred until a result is needed allowing efficient operations on infinite data structures.\\n\\n- Haskell has a strong static type system based on Hindley-Milner type inference. Types help catch errors without requiring a lot of explicit declarations.\\n\\n- It is used to build compilers, distributed systems, financial systems, configuration management tools, bioinformatics apps, etc. due to its safety and concision.\\n\\n- Haskell has a thriving open source community. Glasgow Haskell Compiler (GHC) is the most popular compiler and interpreter. Many tools like stack, cabal simplify development.\\n\\n- Companies like Facebook, AT&T, Amgen, Standard Chartered use Haskell. It is a research-oriented language taught in universities worldwide.\\n\\nIn summary, Haskell is an advanced purely functional language widely used in academia and industry for building robust, high performance applications through its unique approach.'}]\n"
     ]
    }
   ],
   "execution_count": 9
  }
 ],
 "metadata": {
  "kernelspec": {
   "display_name": "Python 3",
   "language": "python",
   "name": "python3"
  },
  "language_info": {
   "codemirror_mode": {
    "name": "ipython",
    "version": 2
   },
   "file_extension": ".py",
   "mimetype": "text/x-python",
   "name": "python",
   "nbconvert_exporter": "python",
   "pygments_lexer": "ipython2",
   "version": "2.7.6"
  }
 },
 "nbformat": 4,
 "nbformat_minor": 5
}
